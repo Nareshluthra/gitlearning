{
 "cells": [
  {
   "cell_type": "code",
   "execution_count": 49,
   "metadata": {},
   "outputs": [
    {
     "name": "stdout",
     "output_type": "stream",
     "text": [
      "('Hash:', '967a4dc5bf933e4c07c511d6e1ab6cb0abc75dd3')\n"
     ]
    }
   ],
   "source": [
    "from hashlib import sha1\n",
    "from IPython.core.interactiveshell import InteractiveShell\n",
    "InteractiveShell.ast_node_interactivity = \"all\"\n",
    "\n",
    "## Our first commit\n",
    "\n",
    "data1 = b'This is my first commit 5:00 PM'\n",
    "meta1 = b'date: 11/12/2018'\n",
    "hash1 = sha1(data1 + meta1).hexdigest()\n",
    "print('Hash:' , hash1)\n"
   ]
  },
  {
   "cell_type": "code",
   "execution_count": 51,
   "metadata": {},
   "outputs": [
    {
     "name": "stdout",
     "output_type": "stream",
     "text": [
      "('Hash:', '82028687d0a13e4a43225be2515b8164a820c753')\n"
     ]
    }
   ],
   "source": [
    "# Second Commit , linked to the first\n",
    "data2 = b'Some more text 5:05 PM'\n",
    "meta2 = b'date: 11/12/2018'\n",
    "hash2 = sha1(data2 + meta2 + hash1.decode()).hexdigest()\n",
    "print('Hash:', hash2)"
   ]
  },
  {
   "cell_type": "code",
   "execution_count": 10,
   "metadata": {},
   "outputs": [],
   "source": [
    " \n",
    "!git config --global color.ui \"auto\""
   ]
  },
  {
   "cell_type": "code",
   "execution_count": 16,
   "metadata": {},
   "outputs": [
    {
     "name": "stdout",
     "output_type": "stream",
     "text": [
      "user.name=Naresh Luthra\n",
      "user.email=nareshluthra2003@yahoo.co.in\n",
      "user.signingkey=FF8A459CC3716597\n",
      "commit.gpgsign=true\n",
      "core.editor=notepad\n",
      "color.ui=auto\n"
     ]
    }
   ],
   "source": [
    "!git config --global -l"
   ]
  },
  {
   "cell_type": "code",
   "execution_count": 22,
   "metadata": {},
   "outputs": [],
   "source": [
    "%mkdir test\n",
    "\n"
   ]
  },
  {
   "cell_type": "code",
   "execution_count": 23,
   "metadata": {},
   "outputs": [
    {
     "name": "stdout",
     "output_type": "stream",
     "text": [
      "D:\\git\\gitlearning\\test\n"
     ]
    }
   ],
   "source": [
    "%cd test"
   ]
  },
  {
   "cell_type": "code",
   "execution_count": 24,
   "metadata": {},
   "outputs": [],
   "source": [
    "%echo \"My first text\" > file1.txt"
   ]
  },
  {
   "cell_type": "code",
   "execution_count": 34,
   "metadata": {},
   "outputs": [],
   "source": [
    "!git add file1.txt\n"
   ]
  },
  {
   "cell_type": "code",
   "execution_count": 35,
   "metadata": {},
   "outputs": [
    {
     "name": "stdout",
     "output_type": "stream",
     "text": [
      "[master (root-commit) 373a1d0] My first commit\n",
      " 1 file changed, 1 insertion(+)\n",
      " create mode 100644 test/file1.txt\n"
     ]
    }
   ],
   "source": [
    "!git commit -m \"My first commit\""
   ]
  },
  {
   "cell_type": "code",
   "execution_count": 98,
   "metadata": {},
   "outputs": [
    {
     "name": "stdout",
     "output_type": "stream",
     "text": [
      "commit 8dbcf30a4f7a954f736ecae21ab205050e703813\n",
      "Author: Naresh Luthra <nareshluthra2003@yahoo.co.in>\n",
      "Date:   Mon Nov 12 20:16:11 2018 +0530\n",
      "\n",
      "    Revert \"My first commit\"\n",
      "    \n",
      "    This reverts commit 373a1d063c5c6ea6f8da243f6bf99135d141a1b1.\n",
      "\n",
      "commit d3afd1f1643175f82d80be9cd2333f8e70611cb9\n",
      "Author: Naresh Luthra <nareshluthra2003@yahoo.co.in>\n",
      "Date:   Mon Nov 12 20:10:42 2018 +0530\n",
      "\n",
      "    Revert \"Add IPython notebook\"\n",
      "    \n",
      "    This reverts commit de780b73e58194613a9557f81062c861e24e773b.\n",
      "\n",
      "commit de780b73e58194613a9557f81062c861e24e773b\n",
      "Author: Naresh Luthra <nareshluthra2003@yahoo.co.in>\n",
      "Date:   Mon Nov 12 19:59:58 2018 +0530\n",
      "\n",
      "    Add IPython notebook\n",
      "\n",
      "commit 373a1d063c5c6ea6f8da243f6bf99135d141a1b1\n",
      "Author: Naresh Luthra <nareshluthra2003@yahoo.co.in>\n",
      "Date:   Mon Nov 12 17:26:02 2018 +0530\n",
      "\n",
      "    My first commit\n"
     ]
    }
   ],
   "source": [
    "!git log"
   ]
  },
  {
   "cell_type": "code",
   "execution_count": 100,
   "metadata": {},
   "outputs": [
    {
     "name": "stdout",
     "output_type": "stream",
     "text": [
      "No local changes to save\n"
     ]
    }
   ],
   "source": [
    "!git stash"
   ]
  },
  {
   "cell_type": "code",
   "execution_count": 6,
   "metadata": {},
   "outputs": [],
   "source": [
    "!echo \"Add somemore\" >> file1.txt"
   ]
  },
  {
   "cell_type": "code",
   "execution_count": 7,
   "metadata": {},
   "outputs": [
    {
     "name": "stdout",
     "output_type": "stream",
     "text": [
      "On branch master\n",
      "Your branch is ahead of 'origin/master' by 3 commits.\n",
      "  (use \"git push\" to publish your local commits)\n",
      "\n",
      "Untracked files:\n",
      "  (use \"git add <file>...\" to include in what will be committed)\n",
      "\n",
      "\t.ipynb_checkpoints/\n",
      "\tGit Workflow.ipynb\n",
      "\tfile1.txt\n",
      "\ttest/\n",
      "\n",
      "nothing added to commit but untracked files present (use \"git add\" to track)\n"
     ]
    }
   ],
   "source": [
    "!git status"
   ]
  },
  {
   "cell_type": "code",
   "execution_count": 9,
   "metadata": {},
   "outputs": [
    {
     "name": "stdout",
     "output_type": "stream",
     "text": [
      "On branch master\n",
      "Your branch is ahead of 'origin/master' by 3 commits.\n",
      "  (use \"git push\" to publish your local commits)\n",
      "\n",
      "Untracked files:\n",
      "  (use \"git add <file>...\" to include in what will be committed)\n",
      "\n",
      "\t.ipynb_checkpoints/\n",
      "\tGit Workflow.ipynb\n",
      "\tfile1.txt\n",
      "\ttest/\n",
      "\n",
      "nothing added to commit but untracked files present (use \"git add\" to track)\n"
     ]
    }
   ],
   "source": [
    "!git status"
   ]
  },
  {
   "cell_type": "code",
   "execution_count": 11,
   "metadata": {},
   "outputs": [
    {
     "name": "stderr",
     "output_type": "stream",
     "text": [
      "warning: LF will be replaced by CRLF in .ipynb_checkpoints/Git Workflow-checkpoint.ipynb.\n",
      "The file will have its original line endings in your working directory\n",
      "warning: LF will be replaced by CRLF in Git Workflow.ipynb.\n",
      "The file will have its original line endings in your working directory\n"
     ]
    }
   ],
   "source": [
    "!git add ."
   ]
  },
  {
   "cell_type": "code",
   "execution_count": 12,
   "metadata": {},
   "outputs": [
    {
     "name": "stdout",
     "output_type": "stream",
     "text": [
      "On branch master\n",
      "Your branch is ahead of 'origin/master' by 3 commits.\n",
      "  (use \"git push\" to publish your local commits)\n",
      "\n",
      "Changes to be committed:\n",
      "  (use \"git reset HEAD <file>...\" to unstage)\n",
      "\n",
      "\tnew file:   .ipynb_checkpoints/Git Workflow-checkpoint.ipynb\n",
      "\tnew file:   Git Workflow.ipynb\n",
      "\tnew file:   file1.txt\n",
      "\tnew file:   test/file1.txt\n",
      "\n"
     ]
    }
   ],
   "source": [
    "!git status"
   ]
  },
  {
   "cell_type": "code",
   "execution_count": 13,
   "metadata": {},
   "outputs": [
    {
     "name": "stdout",
     "output_type": "stream",
     "text": [
      "[master d973914] Second Commit\n",
      " 4 files changed, 284 insertions(+)\n",
      " create mode 100644 .ipynb_checkpoints/Git Workflow-checkpoint.ipynb\n",
      " create mode 100644 Git Workflow.ipynb\n",
      " create mode 100644 file1.txt\n",
      " create mode 100644 test/file1.txt\n"
     ]
    }
   ],
   "source": [
    "!git commit -m \"Second Commit\""
   ]
  },
  {
   "cell_type": "code",
   "execution_count": 14,
   "metadata": {},
   "outputs": [
    {
     "name": "stderr",
     "output_type": "stream",
     "text": [
      "To https://github.com/Nareshluthra/gitlearning.git\n",
      "   373a1d0..d973914  master -> master\n"
     ]
    }
   ],
   "source": [
    "!git push origin master\n"
   ]
  },
  {
   "cell_type": "code",
   "execution_count": 15,
   "metadata": {},
   "outputs": [],
   "source": [
    "# We create our alias (this saves it in git's permanent configuration file):\n",
    "!git config --global alias.slog \"log --oneline --topo-order --graph\"\n"
   ]
  },
  {
   "cell_type": "code",
   "execution_count": 16,
   "metadata": {},
   "outputs": [
    {
     "name": "stdout",
     "output_type": "stream",
     "text": [
      "* d973914 Second Commit\n",
      "* 8dbcf30 Revert \"My first commit\"\n",
      "* d3afd1f Revert \"Add IPython notebook\"\n",
      "* de780b7 Add IPython notebook\n",
      "* 373a1d0 My first commit\n"
     ]
    }
   ],
   "source": [
    "!git slog"
   ]
  },
  {
   "cell_type": "code",
   "execution_count": 1,
   "metadata": {},
   "outputs": [
    {
     "name": "stdout",
     "output_type": "stream",
     "text": [
      "M\tGit Workflow.ipynb\n"
     ]
    },
    {
     "name": "stderr",
     "output_type": "stream",
     "text": [
      "Switched to branch 'experiment'\n"
     ]
    }
   ],
   "source": [
    "!git branch experiment\n",
    "!git checkout experiment"
   ]
  },
  {
   "cell_type": "code",
   "execution_count": 3,
   "metadata": {},
   "outputs": [],
   "source": [
    "!cd test"
   ]
  },
  {
   "cell_type": "code",
   "execution_count": 4,
   "metadata": {},
   "outputs": [
    {
     "name": "stdout",
     "output_type": "stream",
     "text": [
      "[experiment 0c894f1] Trying something new\n",
      " 2 files changed, 189 insertions(+), 6 deletions(-)\n",
      " create mode 100644 experiment.txt\n"
     ]
    },
    {
     "name": "stderr",
     "output_type": "stream",
     "text": [
      "warning: LF will be replaced by CRLF in Git Workflow.ipynb.\n",
      "The file will have its original line endings in your working directory\n"
     ]
    },
    {
     "name": "stdout",
     "output_type": "stream",
     "text": [
      "* 0c894f1 Trying something new\n",
      "* d973914 Second Commit\n",
      "* 8dbcf30 Revert \"My first commit\"\n",
      "* d3afd1f Revert \"Add IPython notebook\"\n",
      "* de780b7 Add IPython notebook\n",
      "* 373a1d0 My first commit\n"
     ]
    }
   ],
   "source": [
    "!echo \"Some crazy idea\" > experiment.txt\n",
    "!git add experiment.txt\n",
    "!git commit -a -m\"Trying something new\"\n",
    "!git slog"
   ]
  },
  {
   "cell_type": "code",
   "execution_count": 6,
   "metadata": {},
   "outputs": [
    {
     "name": "stdout",
     "output_type": "stream",
     "text": [
      "On branch experiment\n",
      "Changes not staged for commit:\n",
      "  (use \"git add <file>...\" to update what will be committed)\n",
      "  (use \"git checkout -- <file>...\" to discard changes in working directory)\n",
      "\n",
      "\tmodified:   Git Workflow.ipynb\n",
      "\n",
      "no changes added to commit (use \"git add\" and/or \"git commit -a\")\n"
     ]
    }
   ],
   "source": [
    "!git status"
   ]
  },
  {
   "cell_type": "code",
   "execution_count": 7,
   "metadata": {},
   "outputs": [
    {
     "name": "stderr",
     "output_type": "stream",
     "text": [
      "error: Your local changes to the following files would be overwritten by checkout:\n",
      "\tGit Workflow.ipynb\n",
      "Please commit your changes or stash them before you switch branches.\n",
      "Aborting\n"
     ]
    }
   ],
   "source": [
    "!git commit -a -m \"Git workflow \""
   ]
  },
  {
   "cell_type": "code",
   "execution_count": null,
   "metadata": {},
   "outputs": [],
   "source": []
  }
 ],
 "metadata": {
  "kernelspec": {
   "display_name": "Python 3",
   "language": "python",
   "name": "python3"
  },
  "language_info": {
   "codemirror_mode": {
    "name": "ipython",
    "version": 3
   },
   "file_extension": ".py",
   "mimetype": "text/x-python",
   "name": "python",
   "nbconvert_exporter": "python",
   "pygments_lexer": "ipython3",
   "version": "3.5.6"
  }
 },
 "nbformat": 4,
 "nbformat_minor": 2
}
